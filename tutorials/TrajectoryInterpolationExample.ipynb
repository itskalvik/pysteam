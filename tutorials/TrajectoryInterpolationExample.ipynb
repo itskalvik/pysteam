{
 "cells": [
  {
   "cell_type": "markdown",
   "id": "35e3afe6",
   "metadata": {},
   "source": [
    "# Trajectory Interpolation Example\n",
    "\n",
    "Example that uses a simple constant-velocity prior over a trajectory that has some fake GPS-like measurements and with interpolation."
   ]
  },
  {
   "cell_type": "code",
   "execution_count": 10,
   "id": "93b37165",
   "metadata": {},
   "outputs": [],
   "source": [
    "import numpy as np\n",
    "import numpy.linalg as npla\n",
    "np.set_printoptions(6, suppress=True)\n",
    "\n",
    "import matplotlib.pyplot as plt\n",
    "%matplotlib inline\n",
    "\n",
    "from pylgmath import so3op, se3op, Transformation\n",
    "from pysteam.evaluatable.se3 import SE3StateVar\n",
    "from pysteam.evaluatable.vspace import VSpaceStateVar\n",
    "from pysteam.evaluatable.p2p import P2PErrorEvaluator\n",
    "from pysteam.trajectory import Time, TrajectoryInterface\n",
    "from pysteam.problem import OptimizationProblem, StaticNoiseModel, L2LossFunc, WeightedLeastSquareCostTerm\n",
    "from pysteam.solver import GaussNewtonSolver"
   ]
  },
  {
   "cell_type": "markdown",
   "id": "75c43cdc",
   "metadata": {},
   "source": [
    "Options:"
   ]
  },
  {
   "cell_type": "code",
   "execution_count": 11,
   "id": "c387fa78",
   "metadata": {},
   "outputs": [],
   "source": [
    "num_states = 100  # total number of states\n",
    "dt = 1  # time step"
   ]
  },
  {
   "cell_type": "code",
   "execution_count": 12,
   "id": "4d049aeb",
   "metadata": {},
   "outputs": [
    {
     "data": {
      "text/plain": [
       "<matplotlib.legend.Legend at 0x7f5fbd37dd90>"
      ]
     },
     "execution_count": 12,
     "metadata": {},
     "output_type": "execute_result"
    },
    {
     "data": {
      "image/png": "[encoded data removed]",
      "text/plain": [
       "<Figure size 432x288 with 1 Axes>"
      ]
     },
     "metadata": {
      "needs_background": "light"
     },
     "output_type": "display_data"
    }
   ],
   "source": [
    "# Create some fake measurements (can consider as gps measurements lat-long-alt being converted to xyz)\n",
    "fake_meas = np.empty((num_states, 4, 1))\n",
    "fake_meas[:, 0, 0] = np.linspace(0, 1, num_states)\n",
    "fake_meas[:, 1, 0] = np.sin(fake_meas[:, 0, 0] * 4 * np.pi) + np.random.normal(scale=0.05, size=fake_meas[:, 1, 0].shape)\n",
    "fake_meas[:, 2, 0] = 0.0  # z to zero so the problem is 2D\n",
    "fake_meas[:, 3, 0] = 1.0  # homogeneous coordinate\n",
    "\n",
    "plt.plot(fake_meas[:, 0], fake_meas[:, 1], '.', label='measured values')\n",
    "plt.legend()"
   ]
  },
  {
   "cell_type": "markdown",
   "id": "3d68c229",
   "metadata": {},
   "source": [
    "Create states and wrap them with pysteam variables:"
   ]
  },
  {
   "cell_type": "code",
   "execution_count": 13,
   "id": "6496f806",
   "metadata": {},
   "outputs": [],
   "source": [
    "# states with initial conditions and associated timestamps\n",
    "# T_ba = T_k0 where 0 can be some global frame (e.g. UTM) and k is the vehicle/robot frame at time k\n",
    "states = [\n",
    "    (dt * i, Transformation(C_ba=np.eye(3), r_ba_in_a=fake_meas[i, :3]), np.zeros((6, 1))) for i in range(num_states)\n",
    "]\n",
    "\n",
    "# wrap states with corresponding steam state variables (no copying!)\n",
    "state_vars = [(t, SE3StateVar(T_vi), VSpaceStateVar(w_iv_inv)) for t, T_vi, w_iv_inv in states]"
   ]
  },
  {
   "cell_type": "markdown",
   "id": "85b2c774",
   "metadata": {},
   "source": [
    "Construct a trajectory with a constant velocity prior for smoothing where knots are states at measurement times:"
   ]
  },
  {
   "cell_type": "code",
   "execution_count": 14,
   "id": "792821e8",
   "metadata": {},
   "outputs": [],
   "source": [
    "Qc_inv = np.diag(1 / np.array([1.0, 1.0, 1.0, 1.0, 1.0, 1.0]))  # smoothing factor diagonal\n",
    "traj = TrajectoryInterface(Qc_inv=Qc_inv)\n",
    "for t, T_vi, w_iv_inv in state_vars:\n",
    "  traj.add_knot(time=Time(t), T_k0=T_vi, w_0k_ink=w_iv_inv)"
   ]
  },
  {
   "cell_type": "markdown",
   "id": "1e48a717",
   "metadata": {},
   "source": [
    "Construct measurement cost terms:"
   ]
  },
  {
   "cell_type": "code",
   "execution_count": 15,
   "id": "39aac705",
   "metadata": {},
   "outputs": [],
   "source": [
    "cost_terms = []\n",
    "# use a shared L2 loss function and noise model for all cost terms\n",
    "loss_func = L2LossFunc()\n",
    "noise_model = StaticNoiseModel(np.eye(3), \"information\")\n",
    "for i in range(num_states):\n",
    "  error_func = P2PErrorEvaluator(T_rq=state_vars[i][1], reference=np.array([[0, 0, 0, 1]]).T, query=fake_meas[i])\n",
    "  cost_terms.append(WeightedLeastSquareCostTerm(error_func, noise_model, loss_func))"
   ]
  },
  {
   "cell_type": "markdown",
   "id": "d7d51ed9",
   "metadata": {},
   "source": [
    "Construct the optimization problem and solve:"
   ]
  },
  {
   "cell_type": "code",
   "execution_count": 16,
   "id": "2f8f25f8",
   "metadata": {},
   "outputs": [
    {
     "name": "stdout",
     "output_type": "stream",
     "text": [
      "Begin Optimization\n",
      "------------------\n",
      "Number of States:  200\n",
      "Number of Cost Terms:  199\n",
      "Initial Cost:  7.536199364861994\n",
      "Iteration:    1  -  Cost:     0.0816\n",
      "Iteration:    2  -  Cost:     0.0815\n",
      "Termination Cause:  CONVERGED ABSOLUTE CHANGE\n",
      "Total Optimization Time: 0.7985 seconds\n"
     ]
    }
   ],
   "source": [
    "opt_prob = OptimizationProblem()\n",
    "opt_prob.add_state_var(*[v for state_var in state_vars for v in state_var[1:]])\n",
    "opt_prob.add_cost_term(*traj.get_prior_cost_terms())\n",
    "opt_prob.add_cost_term(*cost_terms)\n",
    "\n",
    "solver = GaussNewtonSolver(opt_prob, verbose=True)\n",
    "solver.optimize()"
   ]
  },
  {
   "cell_type": "markdown",
   "id": "56116179",
   "metadata": {},
   "source": [
    "Print out results:"
   ]
  },
  {
   "cell_type": "code",
   "execution_count": 17,
   "id": "cf90167d",
   "metadata": {},
   "outputs": [
    {
     "data": {
      "text/plain": [
       "<matplotlib.legend.Legend at 0x7f5fbd3eb850>"
      ]
     },
     "execution_count": 17,
     "metadata": {},
     "output_type": "execute_result"
    },
    {
     "data": {
      "image/png": "[encoded data removed]",
      "text/plain": [
       "<Figure size 432x288 with 1 Axes>"
      ]
     },
     "metadata": {
      "needs_background": "light"
     },
     "output_type": "display_data"
    }
   ],
   "source": [
    "T_0k = np.array([npla.inv(x.matrix()) for _, x, _ in states])\n",
    "\n",
    "plt.plot(T_0k[:, 0, 3], T_0k[:, 1, 3], '.', label=\"measured (smoothed)\")\n",
    "plt.legend()"
   ]
  },
  {
   "cell_type": "code",
   "execution_count": 18,
   "id": "6eb6b513",
   "metadata": {},
   "outputs": [
    {
     "data": {
      "text/plain": [
       "<matplotlib.legend.Legend at 0x7f5fbd5466a0>"
      ]
     },
     "execution_count": 18,
     "metadata": {},
     "output_type": "execute_result"
    },
    {
     "data": {
      "image/png": "[encoded data removed]",
      "text/plain": [
       "<Figure size 432x288 with 1 Axes>"
      ]
     },
     "metadata": {
      "needs_background": "light"
     },
     "output_type": "display_data"
    }
   ],
   "source": [
    "T_k0_interp = [\n",
    "    traj.get_pose_interpolator(Time(dt * i + dt / 2)).evaluate().matrix() for i in range(-10, num_states + 10)\n",
    "]\n",
    "\n",
    "T_0k_interp = np.array([npla.inv(x) for x in T_k0_interp])\n",
    "plt.plot(T_0k[:, 0, 3], T_0k[:, 1, 3], '.', label=\"measured (smoothed)\")\n",
    "plt.plot(T_0k_interp[:, 0, 3], T_0k_interp[:, 1, 3], '.', label=\"inter/extra-polated\")\n",
    "plt.legend()"
   ]
  }
 ],
 "metadata": {
  "interpreter": {
   "hash": "fc65de11abe55fa574530f75e56f633b72e2b4f2ed343d66d95f96fb55516439"
  },
  "kernelspec": {
   "display_name": "Python 3.8.10 64-bit ('venv': venv)",
   "name": "python3"
  },
  "language_info": {
   "codemirror_mode": {
    "name": "ipython",
    "version": 3
   },
   "file_extension": ".py",
   "mimetype": "text/x-python",
   "name": "python",
   "nbconvert_exporter": "python",
   "pygments_lexer": "ipython3",
   "version": "3.8.10"
  }
 },
 "nbformat": 4,
 "nbformat_minor": 5
}
