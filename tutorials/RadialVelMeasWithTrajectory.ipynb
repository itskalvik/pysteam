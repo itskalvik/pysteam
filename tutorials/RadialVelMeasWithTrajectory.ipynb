{
 "cells": [
  {
   "cell_type": "markdown",
   "id": "35e3afe6",
   "metadata": {},
   "source": [
    "# Radial Velocity Measurement with a Trajectory Example\n",
    "\n",
    "Simple example that uses pointwise radial velocity measurements to estimate body velocity of the vehicle, taking into account motion distortion.\n"
   ]
  },
  {
   "cell_type": "code",
   "execution_count": 1,
   "id": "f2e6cc25",
   "metadata": {},
   "outputs": [],
   "source": [
    "import numpy as np\n",
    "import numpy.linalg as npla\n",
    "import matplotlib.pyplot as plt\n",
    "%matplotlib inline\n",
    "# %matplotlib widget\n",
    "plt.rcParams.update({\n",
    "    \"text.usetex\": True,\n",
    "    \"font.family\": \"serif\",\n",
    "    \"font.serif\": [\"Times\"],\n",
    "    'font.size': 14,\n",
    "})\n",
    "\n",
    "np.set_printoptions(6, suppress=True)\n",
    "\n",
    "from pylgmath import Transformation, se3op\n",
    "from pysteam.trajectory import Time\n",
    "from pysteam.trajectory.const_vel import Interface as TrajectoryInterface\n",
    "from pysteam.problem import OptimizationProblem, StaticNoiseModel, L2LossFunc, WeightedLeastSquareCostTerm\n",
    "from pysteam.solver import GaussNewtonSolver\n",
    "from pysteam.evaluable import se3 as se3ev\n",
    "from pysteam.evaluable.se3 import SE3StateVar\n",
    "from pysteam.evaluable.vspace import VSpaceStateVar\n",
    "from pysteam.evaluable.p2p import RadialVelErrorEvaluator"
   ]
  },
  {
   "cell_type": "markdown",
   "id": "7352851d",
   "metadata": {},
   "source": [
    "Problem: assuming the vehicle is moving w.r.t the inertial frame while getting radial velocity measurements to several landmark points, we want to estimate the body velocity of the vehicle. We restrict the problem to 2D. We consider that each measurement is acquired at a different time and use a constant velocity prior for velocity interpolation."
   ]
  },
  {
   "cell_type": "markdown",
   "metadata": {},
   "source": [
    "First, make up some ground truth data:"
   ]
  },
  {
   "cell_type": "code",
   "execution_count": 2,
   "id": "eafb459b",
   "metadata": {},
   "outputs": [],
   "source": [
    "# Time horizon, consider this the time for getting a full lidar scan\n",
    "T = 1\n",
    "\n",
    "# The vehicle-inertial transformation at t=0, assuming to be identity for simplicity\n",
    "T_iv = np.eye(4)\n",
    "T_vi = npla.inv(T_iv)\n",
    "\n",
    "# The sensor-vehicle transformation, assuming the sensor is 1 meter ahead of the vehicle.\n",
    "T_vs = np.array([\n",
    "    [1.0, 0.0, 0.0, 1.0],\n",
    "    [0.0, 1.0, 0.0, 0.0],\n",
    "    [0.0, 0.0, 1.0, 0.0],\n",
    "    [0.0, 0.0, 0.0, 1.0],\n",
    "])\n",
    "T_sv = npla.inv(T_vs)\n",
    "\n",
    "# The ground truth body-velocity of the vehicle - the vehicle is moving forward (x-axis) while rotating (z-axis)\n",
    "w_iv_inv = np.array([[-2.0, 0.0, 0.0, 0.0, 0.0, 0.8]]).T\n",
    "w_is_ins = se3op.tranAd(T_sv) @ w_iv_inv  # transform to sensor frame\n",
    "\n",
    "# The homogeneous coordinates of the landmarks in the inertial frame with timestamp being measured\n",
    "lm_ini = [\n",
    "    (0.25 * T, np.array([[0.0, 2.0, 0.0, 1.0]]).T),\n",
    "    (0.5 * T, np.array([[2.0, 0.0, 0.0, 1.0]]).T),\n",
    "    (0.75 * T, np.array([[0.0, -2.0, 0.0, 1.0]]).T),\n",
    "]\n",
    "\n",
    "## Generate ground truth radial velocity measurements\n",
    "# transform landmark to sensor frame (taking into account their timestamp)\n",
    "lm_ins = [(t, T_sv @ se3op.vec2tran(t * w_iv_inv) @ T_vi @ lm) for t, lm in lm_ini]\n",
    "# compute velocity of landmarks in sensor frame\n",
    "dot_lm_ins = [(t, se3op.point2fs(lm) @ w_is_ins) for t, lm in lm_ins]\n",
    "# compute ground truth radial velocity measurements\n",
    "D = np.array([\n",
    "    [1, 0, 0, 0],\n",
    "    [0, 1, 0, 0],\n",
    "    [0, 0, 1, 0],\n",
    "])  # projection matrix to remove the last element of a homogeneous point\n",
    "rv_measurements = [(t, (lm.T @ D.T @ D @ dot_lm) / np.sqrt(lm.T @ D.T @ D @ lm)) for (t, dot_lm), (_, lm) in zip(dot_lm_ins, lm_ins)]\n"
   ]
  },
  {
   "cell_type": "markdown",
   "id": "8b43dc14",
   "metadata": {},
   "source": [
    "Now, we use the radial velocity measurements to estimate the body velocity of the vehicle. Let's setup the optimization problem:"
   ]
  },
  {
   "cell_type": "code",
   "execution_count": 3,
   "metadata": {},
   "outputs": [
    {
     "name": "stdout",
     "output_type": "stream",
     "text": [
      "Begin Optimization\n",
      "------------------\n",
      "Number of States:  3\n",
      "Number of Cost Terms:  5\n",
      "Initial Cost:  2.7651746996637807\n",
      "Iteration:    1  -  Cost:     0.0002\n",
      "Iteration:    2  -  Cost:     0.0002\n",
      "Termination Cause:  CONVERGED ABSOLUTE CHANGE\n",
      "Ground truth body velocity is: [-2.   0.   0.   0.   0.   0.8]\n",
      "Estimated body velocity is: [-1.999755 -0.000034  0.        0.        0.        0.799968]\n"
     ]
    }
   ],
   "source": [
    "## setup trajectory\n",
    "# state variables\n",
    "T_sv_var = SE3StateVar(Transformation(T_ba=T_sv), locked=True)  # sensor-vehicle transformation - this is fixed\n",
    "T_vi_at0_var = SE3StateVar(Transformation(T_ba=T_vi), locked=True)  # vehicle pose at t=0, fixed\n",
    "w_iv_inv_at0_var = VSpaceStateVar(np.zeros((6, 1)))  # vehicle velocity at t=0, to be estimated\n",
    "T_vi_atT_var = SE3StateVar(Transformation(T_ba=T_vi))  # vehicle pose at t=0, to be estimated\n",
    "w_iv_inv_atT_var = VSpaceStateVar(np.zeros((6, 1)))  # vehicle velocity at t=0\n",
    "# trajectory interface\n",
    "qcd = np.array([1e0, 1e0, 1e0, 1e0, 1e0, 1e0])\n",
    "traj = TrajectoryInterface(qcd=qcd)\n",
    "traj.add_knot(time=Time(0), T_k0=T_vi_at0_var, w_0k_ink=w_iv_inv_at0_var)\n",
    "traj.add_knot(time=Time(T), T_k0=T_vi_atT_var, w_0k_ink=w_iv_inv_atT_var)\n",
    "\n",
    "## radial velocity measurement cost terms\n",
    "noise_model = StaticNoiseModel(np.eye(1))\n",
    "loss_func = L2LossFunc()\n",
    "meas_cost_terms = []\n",
    "for (t, lm), (_, rv) in zip(lm_ins, rv_measurements):\n",
    "  w_iv_inv_att_eval = traj.get_velocity_interpolator(Time(secs=t))\n",
    "  w_is_ins_eval = se3ev.compose_velocity(T_sv_var, w_iv_inv_att_eval)\n",
    "  rv_error = RadialVelErrorEvaluator(w_is_ins_eval, lm[:3], rv[0, 0])\n",
    "  meas_cost_terms.append(WeightedLeastSquareCostTerm(rv_error, noise_model, loss_func))\n",
    "\n",
    "# the problem is not well-constrained, we need to add a prior. This prior below encourages the velocity to be zero. It\n",
    "#   1. penalizes translational velocity along z-axis and rotational velocity along x-axis and y-axis - since the problem is 2D\n",
    "#   2. penalizes translational velocity along y-axis more than x-axis - so that we converge to the correct solution\n",
    "prior_w_iv_inv_at0 = np.zeros((6, 1))\n",
    "cov = np.diag([1e4, 1e-2, 1e-2, 1e-2, 1e-2, 1e4])\n",
    "traj.add_velocity_prior(Time(0), prior_w_iv_inv_at0, cov)\n",
    "\n",
    "opt_prob = OptimizationProblem()\n",
    "opt_prob.add_state_var(w_iv_inv_at0_var, T_vi_atT_var, w_iv_inv_atT_var)\n",
    "opt_prob.add_cost_term(*meas_cost_terms, *traj.get_prior_cost_terms())\n",
    "\n",
    "gauss_newton = GaussNewtonSolver(opt_prob, verbose=True, max_iterations=100)\n",
    "gauss_newton.optimize()\n",
    "\n",
    "print(\"Ground truth body velocity is:\", w_iv_inv.flatten())\n",
    "print(\"Estimated body velocity is:\", w_iv_inv_atT_var.evaluate().flatten())"
   ]
  },
  {
   "cell_type": "markdown",
   "id": "84586a8d",
   "metadata": {},
   "source": [
    "Now we plot the initial, interpolated and final vehicle pose in 2D according to the ground truth/estimated body velocity. They should match."
   ]
  },
  {
   "cell_type": "code",
   "execution_count": 4,
   "id": "8dec98c3",
   "metadata": {},
   "outputs": [
    {
     "data": {
      "image/png": "[encoded data removed]",
      "text/plain": [
       "<Figure size 864x432 with 2 Axes>"
      ]
     },
     "metadata": {
      "needs_background": "light"
     },
     "output_type": "display_data"
    }
   ],
   "source": [
    "fig, axs = plt.subplots(1, 2, figsize=(12, 6))\n",
    "fig.subplots_adjust(left=0.16, right=0.95, bottom=0.2, top=0.95, wspace=0.3, hspace=0.3)\n",
    "\n",
    "lm_ini_x = [lm[0, 0] for _, lm in lm_ini]\n",
    "lm_ini_y = [lm[1, 0] for _, lm in lm_ini]\n",
    "\n",
    "# ground truth\n",
    "axs[0].scatter(lm_ini_x, lm_ini_y, marker='*', color='b', s=150, label='Landmarks')\n",
    "# plot initial pose\n",
    "axs[0].scatter(T_iv[0, 3], T_iv[1, 3], marker='o', color='k', s=50, label='Initial Vehicle Pose (GT)')\n",
    "axs[0].arrow(T_iv[0, 3], T_iv[1, 3], T_iv[0, 0]/10, T_iv[1, 0]/10, width=0.02, color='k')\n",
    "for i, (t, lm) in enumerate(lm_ini):\n",
    "  T_vi_att = se3op.vec2tran(t * w_iv_inv) @ T_vi\n",
    "  T_iv_att = npla.inv(T_vi_att)\n",
    "  axs[0].scatter(T_iv_att[0, 3], T_iv_att[1, 3], marker='o', color='r', s=50, alpha=0.5, label=\"Interpolated Vehicle Poses (GT)\" if i==0 else None)\n",
    "  axs[0].arrow(T_iv_att[0, 3], T_iv_att[1, 3], T_iv_att[0, 0]/10, T_iv_att[1, 0]/10, width=0.02, color='r', alpha=0.5)\n",
    "  axs[0].plot([T_iv_att[0, 3], lm[0, 0]], [T_iv_att[1, 3], lm[1, 0]], 'b', alpha=0.5)\n",
    "# plot final pose\n",
    "T_vi_atT = se3op.vec2tran(T * w_iv_inv) @ T_vi\n",
    "T_iv_atT = npla.inv(T_vi_atT)\n",
    "axs[0].scatter(T_iv_atT[0, 3], T_iv_atT[1, 3], marker='o', color='r', s=50, label='Final Vehicle Pose (GT)')\n",
    "axs[0].arrow(T_iv_atT[0, 3], T_iv_atT[1, 3], T_iv_atT[0, 0]/10, T_iv_atT[1, 0]/10, width=0.02, color='r')\n",
    "\n",
    "axs[0].legend()\n",
    "axs[0].set_xlabel('x [$m$]')\n",
    "axs[0].set_ylabel('y [$m$]')\n",
    "\n",
    "## estimated\n",
    "axs[1].scatter(lm_ini_x, lm_ini_y, marker='*', color='b', s=150, label='Landmarks')\n",
    "# plot initial pose\n",
    "T_vi_at0 = traj.get_pose_interpolator(Time(0)).evaluate().matrix()\n",
    "T_iv_at0 = npla.inv(T_vi_at0)\n",
    "axs[1].scatter(T_iv_at0[0, 3], T_iv_at0[1, 3], marker='o', color='k', s=50, label='Initial Vehicle Pose (Est.)')\n",
    "axs[1].arrow(T_iv_at0[0, 3], T_iv_at0[1, 3], T_iv_at0[0, 0]/10, T_iv_at0[1, 0]/10, width=0.02, color='k')\n",
    "# plot interpolated poses with their associated measurements\n",
    "for i, (t, lm) in enumerate(lm_ini):\n",
    "  T_vi_att = traj.get_pose_interpolator(Time(t)).evaluate().matrix()\n",
    "  T_iv_att = npla.inv(T_vi_att)\n",
    "  axs[1].scatter(T_iv_att[0, 3], T_iv_att[1, 3], marker='o', color='r', s=50, alpha=0.5, label=\"Interpolated Vehicle Poses (Est.)\" if i==0 else None)\n",
    "  axs[1].arrow(T_iv_att[0, 3], T_iv_att[1, 3], T_iv_att[0, 0]/10, T_iv_att[1, 0]/10, width=0.02, color='r', alpha=0.5)\n",
    "  axs[1].plot([T_iv_att[0, 3], lm[0, 0]], [T_iv_att[1, 3], lm[1, 0]], 'b', alpha=0.5)\n",
    "# plot final pose\n",
    "T_vi_atT = traj.get_pose_interpolator(Time(T)).evaluate().matrix()\n",
    "T_iv_atT = npla.inv(T_vi_atT)\n",
    "axs[1].scatter(T_iv_atT[0, 3], T_iv_atT[1, 3], marker='o', color='r', s=50, label='Final Vehicle Pose (Est.)')\n",
    "axs[1].arrow(T_iv_atT[0, 3], T_iv_atT[1, 3], T_iv_atT[0, 0]/10, T_iv_atT[1, 0]/10, width=0.02, color='r')\n",
    "\n",
    "axs[1].legend()\n",
    "axs[1].set_xlabel('x [$m$]')\n",
    "axs[1].set_ylabel('y [$m$]')\n",
    "plt.show()"
   ]
  }
 ],
 "metadata": {
  "kernelspec": {
   "display_name": "Python 3.8.10 ('venv': venv)",
   "language": "python",
   "name": "python3"
  },
  "language_info": {
   "codemirror_mode": {
    "name": "ipython",
    "version": 3
   },
   "file_extension": ".py",
   "mimetype": "text/x-python",
   "name": "python",
   "nbconvert_exporter": "python",
   "pygments_lexer": "ipython3",
   "version": "3.8.10"
  },
  "vscode": {
   "interpreter": {
    "hash": "39e2440f083c561c476e8bea473b497ed8cbc4643153aa04d9ece37954b73d55"
   }
  }
 },
 "nbformat": 4,
 "nbformat_minor": 5
}
