{
 "cells": [
  {
   "cell_type": "markdown",
   "metadata": {},
   "source": [
    "# Pose Graph Relaxation Example\n",
    "\n",
    "Example that constructs and solves a relative pose graph problem."
   ]
  },
  {
   "cell_type": "code",
   "execution_count": 1,
   "metadata": {},
   "outputs": [],
   "source": [
    "import numpy as np\n",
    "\n",
    "from pylgmath import Transformation\n",
    "from pysteam.problem import StaticNoiseModel, L2LossFunc, WeightedLeastSquareCostTerm, OptimizationProblem\n",
    "from pysteam.solver import GaussNewtonSolver\n",
    "from pysteam.state import TransformStateVar\n",
    "from pysteam.evaluator import TransformErrorEval"
   ]
  },
  {
   "cell_type": "code",
   "execution_count": 2,
   "metadata": {},
   "outputs": [
    {
     "name": "stdout",
     "output_type": "stream",
     "text": [
      "Begin Optimization\n",
      "------------------\n",
      "Number of States:  99\n",
      "Number of Cost Terms:  99\n",
      "Initial Cost:  49.50495000000011\n",
      "Iteration:    1  -  Cost:     0.0000\n",
      "Iteration:    2  -  Cost:     0.0000\n",
      "Termination Cause:  CONVERGED ABSOLUTE CHANGE\n",
      "Total Optimization Time: 0.4793 seconds\n"
     ]
    }
   ],
   "source": [
    "# Options\n",
    "num_poses = 100\n",
    "T_k2_k1_vec = np.array([[-1.0, 0., 0., 0., 0., 0.01]]).T\n",
    "measurements = [((i - 1, i, Transformation(xi_ab=T_k2_k1_vec))) for i in range(1, num_poses)]\n",
    "\n",
    "# setup states\n",
    "states = [Transformation() for _ in range(num_poses)]\n",
    "state_vars = [TransformStateVar(state) for state in states]\n",
    "state_vars[0].set_lock(True)  # lock first pose (otherwise entire solution is 'floating')\n",
    "\n",
    "# turn measurements into cost terms\n",
    "cost_terms = []\n",
    "noise_model = StaticNoiseModel(np.eye(6))\n",
    "loss_func = L2LossFunc()\n",
    "for meas in measurements:\n",
    "  T_k1_0 = state_vars[meas[0]]\n",
    "  T_k2_0 = state_vars[meas[1]]\n",
    "  T_k2_k1 = meas[2]\n",
    "  error_func = TransformErrorEval(meas_T_21=T_k2_k1, T_20=T_k2_0, T_10=T_k1_0)\n",
    "  cost_terms.append(WeightedLeastSquareCostTerm(error_func, noise_model, loss_func))\n",
    "\n",
    "## Make Optimization Problem\n",
    "problem = OptimizationProblem()\n",
    "problem.add_state_var(*state_vars)\n",
    "problem.add_cost_term(*cost_terms)\n",
    "\n",
    "## Make solver and solve\n",
    "solver = GaussNewtonSolver(problem, verbose=True, use_sparse_matrix=False)\n",
    "solver.optimize()"
   ]
  }
 ],
 "metadata": {
  "interpreter": {
   "hash": "c15f067fe7e8127fdbb642962bd2cd8db04f16ef0be4627ba876d2142abc64bf"
  },
  "kernelspec": {
   "display_name": "Python 3.8.10 64-bit ('venv': venv)",
   "name": "python3"
  },
  "language_info": {
   "codemirror_mode": {
    "name": "ipython",
    "version": 3
   },
   "file_extension": ".py",
   "mimetype": "text/x-python",
   "name": "python",
   "nbconvert_exporter": "python",
   "pygments_lexer": "ipython3",
   "version": "3.8.10"
  },
  "orig_nbformat": 4
 },
 "nbformat": 4,
 "nbformat_minor": 2
}
