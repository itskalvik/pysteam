{
 "cells": [
  {
   "cell_type": "markdown",
   "id": "35e3afe6",
   "metadata": {},
   "source": [
    "# Radial Velocity Measurement Example\n",
    "\n",
    "Simple example that uses pointwise radial velocity measurements to estimate body velocity of the vehicle.\n"
   ]
  },
  {
   "cell_type": "code",
   "execution_count": 1,
   "id": "f2e6cc25",
   "metadata": {},
   "outputs": [],
   "source": [
    "import numpy as np\n",
    "import numpy.linalg as npla\n",
    "import matplotlib.pyplot as plt\n",
    "%matplotlib inline\n",
    "plt.rcParams.update({\n",
    "    \"text.usetex\": True,\n",
    "    \"font.family\": \"serif\",\n",
    "    \"font.serif\": [\"Times\"],\n",
    "    'font.size': 14,\n",
    "})\n",
    "\n",
    "np.set_printoptions(6, suppress=True)\n",
    "\n",
    "from pylgmath import Transformation, se3op\n",
    "from pysteam.problem import OptimizationProblem, StaticNoiseModel, L2LossFunc, WeightedLeastSquareCostTerm\n",
    "from pysteam.solver import GaussNewtonSolver\n",
    "from pysteam.evaluable import se3 as se3ev\n",
    "from pysteam.evaluable.se3 import SE3StateVar, compose_velocity\n",
    "from pysteam.evaluable.vspace import VSpaceStateVar\n",
    "from pysteam.evaluable.p2p import RadialVelErrorEvaluator"
   ]
  },
  {
   "cell_type": "markdown",
   "id": "7352851d",
   "metadata": {},
   "source": [
    "Problem: assuming the vehicle is moving w.r.t the inertial frame while getting radial velocity measurements to several landmark points, we want to estimate the body velocity of the vehicle. We restrict the problem to 2D in this example."
   ]
  },
  {
   "cell_type": "markdown",
   "metadata": {},
   "source": [
    "First, make up some ground truth data:"
   ]
  },
  {
   "cell_type": "code",
   "execution_count": 2,
   "id": "eafb459b",
   "metadata": {},
   "outputs": [],
   "source": [
    "# The vehicle-inertial frame transformation, assuming to be identity for simplicity\n",
    "T_iv = np.eye(4)\n",
    "T_vi = npla.inv(T_iv)\n",
    "\n",
    "# The sensor-vehicle transformation, assuming the sensor is 1 meter ahead of the vehicle.\n",
    "T_vs = np.array([\n",
    "    [1.0, 0.0, 0.0, 1.0],\n",
    "    [0.0, 1.0, 0.0, 0.0],\n",
    "    [0.0, 0.0, 1.0, 0.0],\n",
    "    [0.0, 0.0, 0.0, 1.0],\n",
    "])\n",
    "T_sv = npla.inv(T_vs)\n",
    "\n",
    "# The ground truth body-velocity of the vehicle - the vehicle is moving forward (x-axis) while rotating (z-axis)\n",
    "w_iv_in_v = np.array([[-2.0, 0.0, 0.0, 0.0, 0.0, 0.8]]).T\n",
    "w_is_in_s = se3op.tranAd(T_sv) @ w_iv_in_v  # transform to sensor frame\n",
    "\n",
    "# The homogeneous coordinates of the landmarks in the inertial frame - each is a 4x1 matrix/vector\n",
    "lm_ini = [\n",
    "    np.array([[2.0, 0.0, 0.0, 1.0]]).T,\n",
    "    np.array([[0.0, 2.0, 0.0, 1.0]]).T,\n",
    "    np.array([[0.0, -2.0, 0.0, 1.0]]).T,\n",
    "]\n",
    "\n",
    "## Generate ground truth radial velocity measurements\n",
    "# transform landmark to sensor frame\n",
    "lm_ins = [T_sv @ T_vi @ lm for lm in lm_ini]\n",
    "# compute velocity of landmarks in sensor frame\n",
    "dot_lm_ins = [se3op.point2fs(lm) @ w_is_in_s for lm in lm_ins]\n",
    "# compute ground truth radial velocity measurements\n",
    "D = np.array([\n",
    "    [1, 0, 0, 0],\n",
    "    [0, 1, 0, 0],\n",
    "    [0, 0, 1, 0],\n",
    "])  # projection matrix to remove the last element of a homogeneous point\n",
    "rv_measurements = [(lm.T @ D.T @ D @ dot_lm) / np.sqrt(lm.T @ D.T @ D @ lm) for dot_lm, lm in zip(dot_lm_ins, lm_ins)]"
   ]
  },
  {
   "cell_type": "markdown",
   "id": "8b43dc14",
   "metadata": {},
   "source": [
    "Now, we use the radial velocity measurements to estimate the body velocity of the vehicle. Let's setup the optimization problem:"
   ]
  },
  {
   "cell_type": "code",
   "execution_count": 3,
   "metadata": {},
   "outputs": [
    {
     "name": "stdout",
     "output_type": "stream",
     "text": [
      "Begin Optimization\n",
      "------------------\n",
      "Number of States:  1\n",
      "Number of Cost Terms:  4\n",
      "Initial Cost:  3.3120000000000003\n",
      "Iteration:    1  -  Cost:     0.0002\n",
      "Iteration:    2  -  Cost:     0.0002\n",
      "Termination Cause:  CONVERGED ABSOLUTE CHANGE\n",
      "Total Optimization Time: 0.0043 seconds\n",
      "Ground truth body velocity is: [-2.   0.   0.   0.   0.   0.8]\n",
      "Estimated body velocity is: [-1.999857  0.000001  0.        0.        0.        0.799949]\n"
     ]
    }
   ],
   "source": [
    "# states\n",
    "w_iv_in_v_var = VSpaceStateVar(np.zeros((6, 1)))  # body velocity of the vehicle - this is what we estimate, initialized to zero\n",
    "T_sv_var = SE3StateVar(Transformation(T_ba=T_sv), locked=True)  # sensor-vehicle transformation - this is fixed\n",
    "w_is_in_s_eval = compose_velocity(T_sv_var, w_iv_in_v_var)  # transform body velocity to sensor frame, autodiff evaluable\n",
    "\n",
    "# radial velocity measurement cost terms\n",
    "noise_model = StaticNoiseModel(np.eye(1))\n",
    "loss_func = L2LossFunc()\n",
    "rv_errors = [RadialVelErrorEvaluator(w_is_in_s_eval, lm[:3], rv[0, 0]) for lm, rv in zip(lm_ins, rv_measurements)]\n",
    "meas_cost_terms = [WeightedLeastSquareCostTerm(error_func, noise_model, loss_func) for error_func in rv_errors]\n",
    "\n",
    "# the problem is not well-constrained, we need to add a prior. This prior below encourages the velocity to be zero. It\n",
    "#   1. penalizes translational velocity along z-axis and rotational velocity along x-axis and y-axis - since the problem is 2D\n",
    "#   2. penalizes translational velocity along y-axis more than x-axis - so that we converge to the correct solution\n",
    "noise_model = StaticNoiseModel(np.diag([1e4, 1e-2, 1e-2, 1e-2, 1e-2, 1e4]))\n",
    "loss_func = L2LossFunc()\n",
    "prior_cost_term = WeightedLeastSquareCostTerm(w_iv_in_v_var, noise_model, loss_func)\n",
    "\n",
    "opt_prob = OptimizationProblem()\n",
    "opt_prob.add_state_var(w_iv_in_v_var, T_sv_var)\n",
    "opt_prob.add_cost_term(*meas_cost_terms, prior_cost_term)\n",
    "\n",
    "gauss_newton = GaussNewtonSolver(opt_prob, verbose=True, max_iterations=100)\n",
    "gauss_newton.optimize()\n",
    "\n",
    "print(\"Ground truth body velocity is:\", w_iv_in_v.flatten())\n",
    "print(\"Estimated body velocity is:\", w_iv_in_v_var.evaluate().flatten())"
   ]
  },
  {
   "cell_type": "markdown",
   "id": "84586a8d",
   "metadata": {},
   "source": [
    "Now we plot the extrapolated vehicle pose in 2D according to the ground truth/estimated body velocity. You can see that they match."
   ]
  },
  {
   "cell_type": "code",
   "execution_count": 4,
   "id": "8dec98c3",
   "metadata": {},
   "outputs": [
    {
     "data": {
      "text/plain": [
       "Text(0, 0.5, 'y [$m$]')"
      ]
     },
     "execution_count": 4,
     "metadata": {},
     "output_type": "execute_result"
    },
    {
     "data": {
      "image/png": "[encoded data removed]",
      "text/plain": [
       "<Figure size 864x432 with 2 Axes>"
      ]
     },
     "metadata": {
      "needs_background": "light"
     },
     "output_type": "display_data"
    }
   ],
   "source": [
    "fig, axs = plt.subplots(1, 2, figsize=(12, 6))\n",
    "fig.subplots_adjust(left=0.16, right=0.95, bottom=0.2, top=0.95, wspace=0.3, hspace=0.3)\n",
    "\n",
    "lm_ini_x = [lm[0, 0] for lm in lm_ini]\n",
    "lm_ini_y = [lm[1, 0] for lm in lm_ini]\n",
    "\n",
    "# ground truth\n",
    "axs[0].scatter(lm_ini_x, lm_ini_y, marker='*', color='b', s=150, label='Landmarks')\n",
    "axs[0].scatter(T_iv[0, 3], T_iv[1, 3], marker='o', color='r', s=50, label='Extrapolated Vehicle Poses (GT)')\n",
    "for t in np.linspace(0, 1, 8):\n",
    "  T_vi_at_t = se3op.vec2tran(t * w_iv_in_v) @ T_vi\n",
    "  T_iv_at_t = npla.inv(T_vi_at_t)\n",
    "  axs[0].scatter(T_iv_at_t[0, 3], T_iv_at_t[1, 3], marker='o', color='r', s=50, alpha=1.0 - 0.5 * t)\n",
    "  axs[0].arrow(T_iv_at_t[0, 3], T_iv_at_t[1, 3], T_iv_at_t[0, 0]/10, T_iv_at_t[1, 0]/10, width=0.02, color='r', alpha=1.0 - 0.8 * t)\n",
    "axs[0].legend()\n",
    "axs[0].set_xlabel('x [$m$]')\n",
    "axs[0].set_ylabel('y [$m$]')\n",
    "\n",
    "# estimated\n",
    "hat_w_iv_in_v = w_iv_in_v_var.evaluate()\n",
    "axs[1].scatter(lm_ini_x, lm_ini_y, marker='*', color='b', s=150, label='Landmarks')\n",
    "axs[1].scatter(T_iv[0, 3], T_iv[1, 3], marker='o', color='r', s=50, label='Extrapolated Vehicle Poses (Est.)')\n",
    "for t in np.linspace(0, 1, 8):\n",
    "  T_vi_at_t = se3op.vec2tran(t * hat_w_iv_in_v) @ T_vi\n",
    "  T_iv_at_t = npla.inv(T_vi_at_t)\n",
    "  axs[1].scatter(T_iv_at_t[0, 3], T_iv_at_t[1, 3], marker='o', color='r', s=50, alpha=1.0 - 0.8 * t)\n",
    "  axs[1].arrow(T_iv_at_t[0, 3], T_iv_at_t[1, 3], T_iv_at_t[0, 0]/10, T_iv_at_t[1, 0]/10, width=0.02, color='r', alpha=1.0 - 0.8 * t)\n",
    "axs[1].legend()\n",
    "axs[1].set_xlabel('x [$m$]')\n",
    "axs[1].set_ylabel('y [$m$]')"
   ]
  }
 ],
 "metadata": {
  "interpreter": {
   "hash": "fc65de11abe55fa574530f75e56f633b72e2b4f2ed343d66d95f96fb55516439"
  },
  "kernelspec": {
   "display_name": "Python 3.8.10 64-bit ('venv': venv)",
   "name": "python3"
  },
  "language_info": {
   "codemirror_mode": {
    "name": "ipython",
    "version": 3
   },
   "file_extension": ".py",
   "mimetype": "text/x-python",
   "name": "python",
   "nbconvert_exporter": "python",
   "pygments_lexer": "ipython3",
   "version": "3.8.10"
  }
 },
 "nbformat": 4,
 "nbformat_minor": 5
}
