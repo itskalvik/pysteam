{
 "cells": [
  {
   "cell_type": "markdown",
   "id": "35e3afe6",
   "metadata": {},
   "source": [
    "# Trajectory Optimization Example 3\n",
    "\n",
    "Similar to example 2. Construct a trajectory with multiple states (pose + velocity). Lock the first state (pose + velocity), and optimize the rest states (pose + velocity) with addtional velocity measurements at interpolated times.\n"
   ]
  },
  {
   "cell_type": "code",
   "execution_count": 1,
   "id": "f2e6cc25",
   "metadata": {},
   "outputs": [
    {
     "ename": "ImportError",
     "evalue": "cannot import name 'TrajectoryInterface' from 'pysteam.trajectory' (/ext0/datasets/boreas/boreas_dev/pysteam/pysteam/trajectory/__init__.py)",
     "output_type": "error",
     "traceback": [
      "\u001b[0;31m---------------------------------------------------------------------------\u001b[0m",
      "\u001b[0;31mImportError\u001b[0m                               Traceback (most recent call last)",
      "\u001b[0;32m/tmp/ipykernel_3597432/2564650159.py\u001b[0m in \u001b[0;36m<module>\u001b[0;34m\u001b[0m\n\u001b[1;32m      6\u001b[0m \u001b[0;34m\u001b[0m\u001b[0m\n\u001b[1;32m      7\u001b[0m \u001b[0;32mfrom\u001b[0m \u001b[0mpylgmath\u001b[0m \u001b[0;32mimport\u001b[0m \u001b[0mTransformation\u001b[0m\u001b[0;34m\u001b[0m\u001b[0;34m\u001b[0m\u001b[0m\n\u001b[0;32m----> 8\u001b[0;31m \u001b[0;32mfrom\u001b[0m \u001b[0mpysteam\u001b[0m\u001b[0;34m.\u001b[0m\u001b[0mtrajectory\u001b[0m \u001b[0;32mimport\u001b[0m \u001b[0mTime\u001b[0m\u001b[0;34m,\u001b[0m \u001b[0mTrajectoryInterface\u001b[0m\u001b[0;34m\u001b[0m\u001b[0;34m\u001b[0m\u001b[0m\n\u001b[0m\u001b[1;32m      9\u001b[0m \u001b[0;32mfrom\u001b[0m \u001b[0mpysteam\u001b[0m\u001b[0;34m.\u001b[0m\u001b[0mproblem\u001b[0m \u001b[0;32mimport\u001b[0m \u001b[0mOptimizationProblem\u001b[0m\u001b[0;34m,\u001b[0m \u001b[0mStaticNoiseModel\u001b[0m\u001b[0;34m,\u001b[0m \u001b[0mL2LossFunc\u001b[0m\u001b[0;34m,\u001b[0m \u001b[0mWeightedLeastSquareCostTerm\u001b[0m\u001b[0;34m\u001b[0m\u001b[0;34m\u001b[0m\u001b[0m\n\u001b[1;32m     10\u001b[0m \u001b[0;32mfrom\u001b[0m \u001b[0mpysteam\u001b[0m\u001b[0;34m.\u001b[0m\u001b[0msolver\u001b[0m \u001b[0;32mimport\u001b[0m \u001b[0mGaussNewtonSolver\u001b[0m\u001b[0;34m,\u001b[0m \u001b[0mDoglegGaussNewtonSolver\u001b[0m\u001b[0;34m\u001b[0m\u001b[0;34m\u001b[0m\u001b[0m\n",
      "\u001b[0;31mImportError\u001b[0m: cannot import name 'TrajectoryInterface' from 'pysteam.trajectory' (/ext0/datasets/boreas/boreas_dev/pysteam/pysteam/trajectory/__init__.py)"
     ]
    }
   ],
   "source": [
    "import numpy as np\n",
    "import matplotlib.pyplot as plt\n",
    "%matplotlib inline\n",
    "\n",
    "np.set_printoptions(6, suppress=True)\n",
    "\n",
    "from pylgmath import Transformation\n",
    "from pysteam.trajectory import Time\n",
    "from pysteam.trajectory.const_vel import Interface as TrajectoryInterface\n",
    "from pysteam.problem import OptimizationProblem, StaticNoiseModel, L2LossFunc, WeightedLeastSquareCostTerm\n",
    "from pysteam.solver import GaussNewtonSolver, DoglegGaussNewtonSolver\n",
    "from pysteam.evaluable import vspace as vspaceev, se3 as se3ev\n",
    "from pysteam.evaluable.se3 import SE3StateVar\n",
    "from pysteam.evaluable.vspace import VSpaceStateVar"
   ]
  },
  {
   "cell_type": "markdown",
   "id": "430b2428",
   "metadata": {},
   "source": [
    "Set up the trajectory that uses a constant velocity motion prior:\n"
   ]
  },
  {
   "cell_type": "code",
   "execution_count": null,
   "id": "9d3d980c",
   "metadata": {},
   "outputs": [],
   "source": [
    "# states with initial conditions and associated timestamps\n",
    "NUM_STATES = 10\n",
    "T_TOTAL = 1\n",
    "DT = T_TOTAL / (NUM_STATES - 1)\n",
    "states = [(DT * i, Transformation(), 0 * np.ones((6, 1))) for i in range(NUM_STATES)]\n",
    "# states = []\n",
    "# states.append((0, Transformation(), np.zeros((6, 1))))\n",
    "# states.append((0.1 * T_TOTAL, Transformation(), np.array([[0.1, -0.1, 0.1, -0.1, 0.1, 0.3]]).T))\n",
    "# states.append((0.3 * T_TOTAL, Transformation(), np.array([[0.3, -0.3, -0.3, 0.3, 0.6, 0.3]]).T))\n",
    "# states.append((0.7 * T_TOTAL, Transformation(), np.array([[0.3, -0.3, -0.3, 0.3, 0.6, 0.3]]).T))\n",
    "\n",
    "# wrap states with corresponding steam state variables (no copy!)\n",
    "state_vars = [(t, SE3StateVar(T_vi), VSpaceStateVar(w_iv_inv)) for t, T_vi, w_iv_inv in states]\n",
    "state_vars[0][1].locked = True  # lock first pose\n",
    "state_vars[0][2].locked = True  # lock first velocity\n",
    "\n",
    "# construct a trajectory\n",
    "# Qc_inv = np.diag(1 / np.array([1.0, 1.0, 1.0, 1.0, 1.0, 1.0]))\n",
    "Qc_inv = np.diag(1 / np.array([0.001, 0.001, 0.001, 0.01, 0.01, 0.01]))  # smoothing factor diagonal\n",
    "traj = TrajectoryInterface(Qc_inv=Qc_inv)\n",
    "for t, T_vi, w_iv_inv in state_vars:\n",
    "  traj.add_knot(time=Time(t), T_k0=T_vi, w_0k_ink=w_iv_inv)\n",
    "\n",
    "# fake velocity measurements at interpolated times\n",
    "w_iv_inv_meas = []\n",
    "# w_iv_inv_meas.append((0.1 * T_TOTAL, np.array([[0.1, 0.1, 0.1, 0.1, 0.1, 0.1]]).T))\n",
    "# w_iv_inv_meas.append((0.3 * T_TOTAL, np.array([[0.3, 0.3, 0.3, 0.3, 0.3, 0.3]]).T))\n",
    "w_iv_inv_meas.append((0.1 * T_TOTAL, np.array([[0.1, -0.1, 0.1, -0.1, 0.1, 0.3]]).T))\n",
    "w_iv_inv_meas.append((0.3 * T_TOTAL, np.array([[0.3, -0.3, -0.3, 0.3, 0.6, 0.3]]).T))\n",
    "w_iv_inv_meas.append((0.7 * T_TOTAL, np.array([[0.3, -0.3, -0.3, 0.3, 0.6, 0.3]]).T))\n",
    "\n",
    "# velocity measurements -> cost terms\n",
    "noise_model = StaticNoiseModel(np.eye(6) * 0.001)\n",
    "loss_func = L2LossFunc()\n",
    "cost_terms = []\n",
    "for t, w in w_iv_inv_meas:\n",
    "  intp_vel = traj.get_velocity_interpolator(Time(secs=t))\n",
    "  error_func = vspaceev.add(VSpaceStateVar(w, locked=True), vspaceev.neg(intp_vel))\n",
    "  cost_term = WeightedLeastSquareCostTerm(error_func, noise_model, loss_func)\n",
    "  cost_terms.append(cost_term)\n"
   ]
  },
  {
   "cell_type": "markdown",
   "id": "ceb53bfa",
   "metadata": {},
   "source": [
    "Construct the optimization problem and solve:\n"
   ]
  },
  {
   "cell_type": "code",
   "execution_count": null,
   "id": "f665a291",
   "metadata": {},
   "outputs": [],
   "source": [
    "opt_prob = OptimizationProblem()\n",
    "opt_prob.add_state_var(*[v for state_var in state_vars for v in state_var[1:]])\n",
    "opt_prob.add_cost_term(*traj.get_prior_cost_terms())\n",
    "opt_prob.add_cost_term(*cost_terms)\n",
    "\n",
    "solver = DoglegGaussNewtonSolver(opt_prob, verbose=True)\n",
    "solver.optimize()"
   ]
  },
  {
   "cell_type": "markdown",
   "id": "d323e98d",
   "metadata": {},
   "source": [
    "Print out results:\n"
   ]
  },
  {
   "cell_type": "code",
   "execution_count": null,
   "id": "06558f54",
   "metadata": {},
   "outputs": [],
   "source": [
    "print(\"First Pose: \\n\", states[0][1])\n",
    "print(\"Last Pose:  \\n\", states[1][1])\n",
    "print(\"First Vel:  \\n\", states[0][2].squeeze())\n",
    "print(\"Last Vel:   \\n\", states[1][2].squeeze())"
   ]
  },
  {
   "cell_type": "code",
   "execution_count": null,
   "id": "dd28705e",
   "metadata": {},
   "outputs": [],
   "source": [
    "# knot times\n",
    "knot_times = [x[0] for x in states]\n",
    "knot_vels = np.array([traj.get_velocity_interpolator(Time(secs=t)).evaluate().squeeze() for t in knot_times])\n",
    "\n",
    "# measurement values\n",
    "meas_times = [x[0] for x in w_iv_inv_meas]\n",
    "meas_vels = np.array([x[1].flatten() for x in w_iv_inv_meas])\n",
    "\n",
    "# plot values\n",
    "plot_times = lambda: list(np.arange(0.0, T_TOTAL, 0.02 * T_TOTAL)) + [T_TOTAL]\n",
    "plot_intp_vels = np.array([traj.get_velocity_interpolator(Time(secs=t)).evaluate().squeeze() for t in plot_times()])\n",
    "\n",
    "fig = plt.figure()\n",
    "\n",
    "plot_number = 611\n",
    "fig.set_size_inches(8, 12)\n",
    "fig.subplots_adjust(left=0.16, right=0.95, bottom=0.1, top=0.95, wspace=0.7, hspace=0.6)\n",
    "\n",
    "ylabels = ['$v_x$(m/s)', '$v_y$(m/s)', '$v_z$(m/s)', '$\\omega_x$(rad/s)', '$\\omega_y$(rad/s)', '$\\omega_z$(rad/s)']\n",
    "for i in range(6):\n",
    "  ax = fig.add_subplot(plot_number + i)\n",
    "  ax.plot(plot_times(), plot_intp_vels[:, i].squeeze(), '-', linewidth=1.0, label='interpolated vel.')\n",
    "  if len(knot_times):\n",
    "    ax.scatter(knot_times, knot_vels[:, i].squeeze(), s=10, c='g', label='knot vel.')\n",
    "  if len(meas_times):\n",
    "    ax.scatter(meas_times, meas_vels[:, i].squeeze(), s=10, c='r', label='measured vel.')\n",
    "  ax.set_xlabel('Time (s)')\n",
    "  ax.set_ylabel(ylabels[i])\n",
    "  ax.legend()"
   ]
  }
 ],
 "metadata": {
  "interpreter": {
   "hash": "fc65de11abe55fa574530f75e56f633b72e2b4f2ed343d66d95f96fb55516439"
  },
  "kernelspec": {
   "display_name": "Python 3.8.10 64-bit ('venv': venv)",
   "name": "python3"
  },
  "language_info": {
   "codemirror_mode": {
    "name": "ipython",
    "version": 3
   },
   "file_extension": ".py",
   "mimetype": "text/x-python",
   "name": "python",
   "nbconvert_exporter": "python",
   "pygments_lexer": "ipython3",
   "version": "3.8.10"
  }
 },
 "nbformat": 4,
 "nbformat_minor": 5
}
