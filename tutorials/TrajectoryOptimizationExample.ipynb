{
 "cells": [
  {
   "cell_type": "markdown",
   "id": "35e3afe6",
   "metadata": {},
   "source": [
    "# Trajectory Optimization Example\n",
    "\n",
    "Construct a trajectory with two states (pose + velocity). Lock the first state (pose + velocity) and only the velocity of the second state, and optimize the pose of the second state.\n"
   ]
  },
  {
   "cell_type": "code",
   "execution_count": 1,
   "id": "f2e6cc25",
   "metadata": {},
   "outputs": [],
   "source": [
    "import numpy as np\n",
    "\n",
    "np.set_printoptions(6, suppress=True)\n",
    "\n",
    "from pylgmath import Transformation\n",
    "from pysteam.trajectory import Time\n",
    "from pysteam.trajectory.const_vel import Interface as TrajectoryInterface\n",
    "from pysteam.problem import OptimizationProblem\n",
    "from pysteam.solver import GaussNewtonSolver, DoglegGaussNewtonSolver\n",
    "from pysteam.evaluable.se3 import SE3StateVar\n",
    "from pysteam.evaluable.vspace import VSpaceStateVar"
   ]
  },
  {
   "cell_type": "markdown",
   "id": "430b2428",
   "metadata": {},
   "source": [
    "Set up the trajectory that uses a constant velocity motion prior:\n"
   ]
  },
  {
   "cell_type": "code",
   "execution_count": 2,
   "id": "9d3d980c",
   "metadata": {},
   "outputs": [],
   "source": [
    "# states with initial conditions and associated timestamps\n",
    "NUM_STATES = 2\n",
    "DT = 1\n",
    "states = [(DT * i, Transformation(), i * np.ones((6, 1))) for i in range(NUM_STATES)]\n",
    "\n",
    "# wrap states with corresponding steam state variables (no copy!)\n",
    "state_vars = [\n",
    "    (t, SE3StateVar(T_vi), VSpaceStateVar(w_iv_inv)) for t, T_vi, w_iv_inv in states\n",
    "]\n",
    "state_vars[0][1].locked = True  # lock first pose\n",
    "state_vars[0][2].locked = True  # lock first velocity\n",
    "state_vars[1][2].locked = True  # lock second velocity\n",
    "\n",
    "# construct a trajectory\n",
    "qcd = np.ones(6)\n",
    "traj = TrajectoryInterface(qcd=qcd)\n",
    "for t, T_vi, w_iv_inv in state_vars:\n",
    "    traj.add_knot(time=Time(t), T_k0=T_vi, w_0k_ink=w_iv_inv)"
   ]
  },
  {
   "cell_type": "markdown",
   "id": "ceb53bfa",
   "metadata": {},
   "source": [
    "Construct the optimization problem and solve:\n"
   ]
  },
  {
   "cell_type": "code",
   "execution_count": 3,
   "id": "f665a291",
   "metadata": {},
   "outputs": [
    {
     "name": "stdout",
     "output_type": "stream",
     "text": [
      "Begin Optimization\n",
      "------------------\n",
      "Number of States:  1\n",
      "Number of Cost Terms:  1\n",
      "Initial Cost:  12.000000000000002\n",
      "Iteration:    1  -  Cost:     3.0000  -  TR Shrink:  0.000  -  AvP Ratio:  1.000  -  Dogleg Segment: Gauss Newton   \n",
      "Iteration:    2  -  Cost:     3.0000  -  TR Shrink: 50.000  -  AvP Ratio:  0.000  -  Dogleg Segment: Gauss Newton   \n",
      "Termination Cause:  CONVERGED ZERO GRADIENT\n"
     ]
    }
   ],
   "source": [
    "opt_prob = OptimizationProblem()\n",
    "opt_prob.add_state_var(*[v for state_var in state_vars for v in state_var[1:]])\n",
    "opt_prob.add_cost_term(*traj.get_prior_cost_terms())\n",
    "\n",
    "solver = DoglegGaussNewtonSolver(opt_prob, verbose=True)\n",
    "solver.optimize()"
   ]
  },
  {
   "cell_type": "markdown",
   "id": "d323e98d",
   "metadata": {},
   "source": [
    "Print out results:\n"
   ]
  },
  {
   "cell_type": "code",
   "execution_count": 4,
   "id": "06558f54",
   "metadata": {},
   "outputs": [
    {
     "name": "stdout",
     "output_type": "stream",
     "text": [
      "First Pose:                 \n",
      " [[1. 0. 0. 0.]\n",
      " [0. 1. 0. 0.]\n",
      " [0. 0. 1. 0.]\n",
      " [0. 0. 0. 1.]]\n",
      "Second Pose:                \n",
      " [[ 0.76524  -0.322422  0.557183  0.5     ]\n",
      " [ 0.557183  0.76524  -0.322422  0.5     ]\n",
      " [-0.322422  0.557183  0.76524   0.5     ]\n",
      " [ 0.        0.        0.        1.      ]]\n",
      "First Vel:                  \n",
      " [0. 0. 0. 0. 0. 0.]\n",
      "Second Vel:                 \n",
      " [1. 1. 1. 1. 1. 1.]\n",
      "Interp. Vel (t=t0+0.5*DT):  \n",
      " [0.5 0.5 0.5 0.5 0.5 0.5]\n"
     ]
    }
   ],
   "source": [
    "print(\"First Pose:                 \\n\", states[0][1])\n",
    "print(\"Second Pose:                \\n\", states[1][1])\n",
    "print(\"First Vel:                  \\n\", states[0][2].squeeze())\n",
    "print(\"Second Vel:                 \\n\", states[1][2].squeeze())\n",
    "print(\n",
    "    \"Interp. Vel (t=t0+0.5*DT):  \\n\",\n",
    "    traj.get_velocity_interpolator(Time(states[0][0]) + Time(secs=0.5 * DT))\n",
    "    .evaluate()\n",
    "    .squeeze(),\n",
    ")"
   ]
  }
 ],
 "metadata": {
  "kernelspec": {
   "display_name": "Python 3.8.10 ('venv': venv)",
   "language": "python",
   "name": "python3"
  },
  "language_info": {
   "codemirror_mode": {
    "name": "ipython",
    "version": 3
   },
   "file_extension": ".py",
   "mimetype": "text/x-python",
   "name": "python",
   "nbconvert_exporter": "python",
   "pygments_lexer": "ipython3",
   "version": "3.8.10"
  },
  "vscode": {
   "interpreter": {
    "hash": "39e2440f083c561c476e8bea473b497ed8cbc4643153aa04d9ece37954b73d55"
   }
  }
 },
 "nbformat": 4,
 "nbformat_minor": 5
}
