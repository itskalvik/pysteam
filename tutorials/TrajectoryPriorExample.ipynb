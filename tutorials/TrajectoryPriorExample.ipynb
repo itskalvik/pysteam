{
 "cells": [
  {
   "cell_type": "markdown",
   "id": "35e3afe6",
   "metadata": {},
   "source": [
    "# Trajectory Prior Example\n",
    "\n",
    "Example that uses a simple constant-velocity prior over a trajectory.\n"
   ]
  },
  {
   "cell_type": "code",
   "execution_count": 1,
   "id": "f2e6cc25",
   "metadata": {},
   "outputs": [],
   "source": [
    "import numpy as np\n",
    "\n",
    "np.set_printoptions(6, suppress=True)\n",
    "\n",
    "from pylgmath import so3op, se3op, Transformation\n",
    "from pysteam.trajectory import Time, TrajectoryInterface\n",
    "from pysteam.problem import OptimizationProblem\n",
    "from pysteam.solver import GaussNewtonSolver, DoglegGaussNewtonSolver\n",
    "from pysteam.evaluable.se3 import SE3StateVar\n",
    "from pysteam.evaluable.vspace import VSpaceStateVar"
   ]
  },
  {
   "cell_type": "markdown",
   "id": "558b22d4",
   "metadata": {},
   "source": [
    "Options:\n"
   ]
  },
  {
   "cell_type": "code",
   "execution_count": 2,
   "id": "89a7264a",
   "metadata": {},
   "outputs": [],
   "source": [
    "num_states = 2  # total number of states\n",
    "T_vi_init = Transformation()  # initial pose T_vi_init=T_ii (used as a prior)\n",
    "w_iv_inv_init = np.array([[-1.0, 0., 0., 0., 0., 0.]]).T  # initial body-centric velocity (used as a prior)\n",
    "dt = 1"
   ]
  },
  {
   "cell_type": "markdown",
   "id": "430b2428",
   "metadata": {},
   "source": [
    "Set up the trajectory that uses a constant velocity motion prior:\n"
   ]
  },
  {
   "cell_type": "code",
   "execution_count": 3,
   "id": "9d3d980c",
   "metadata": {},
   "outputs": [],
   "source": [
    "# states with initial conditions and associated timestamps\n",
    "states = [(dt * i, Transformation(), 0.05 * i * np.ones((6, 1))) for i in range(num_states)]\n",
    "\n",
    "# wrap states with corresponding steam state variables (no copying!)\n",
    "state_vars = [(t, SE3StateVar(T_vi), VSpaceStateVar(w_iv_inv, locked=True)) for t, T_vi, w_iv_inv in states]\n",
    "\n",
    "# construct a trajectory\n",
    "Qc_inv = np.diag(1 / np.array([1.0, 0.001, 0.001, 0.001, 0.001, 0.001]))  # smoothing factor diagonal\n",
    "traj = TrajectoryInterface(Qc_inv=Qc_inv)\n",
    "for t, T_vi, w_iv_inv in state_vars:\n",
    "  traj.add_knot(time=Time(t), T_k0=T_vi, w_0k_ink=w_iv_inv)\n",
    "\n",
    "# add pose and velocity priors (associated with the initial timestamp t0)\n",
    "traj.add_pose_prior(Time(states[0][0]), T_vi_init, np.eye(6))"
   ]
  },
  {
   "cell_type": "markdown",
   "id": "ceb53bfa",
   "metadata": {},
   "source": [
    "Construct the optimization problem and solve:\n"
   ]
  },
  {
   "cell_type": "code",
   "execution_count": 4,
   "id": "f665a291",
   "metadata": {},
   "outputs": [
    {
     "name": "stdout",
     "output_type": "stream",
     "text": [
      "Begin Optimization\n",
      "------------------\n",
      "Number of States:  2\n",
      "Number of Cost Terms:  2\n",
      "Initial Cost:  25.004999999999995\n",
      "Iteration:    1  -  Cost:     6.2510  -  TR Shrink:  0.000  -  AvP Ratio:  1.000  -  Dogleg Segment: Gauss Newton   \n",
      "Iteration:    2  -  Cost:     6.2510  -  TR Shrink:  0.000  -  AvP Ratio:  4.035  -  Dogleg Segment: Gauss Newton   \n",
      "Termination Cause:  CONVERGED ABSOLUTE CHANGE\n",
      "Total Optimization Time: 0.0165 seconds\n"
     ]
    }
   ],
   "source": [
    "opt_prob = OptimizationProblem()\n",
    "opt_prob.add_state_var(*[v for state_var in state_vars for v in state_var[1:]])\n",
    "opt_prob.add_cost_term(*traj.get_prior_cost_terms())\n",
    "\n",
    "solver = DoglegGaussNewtonSolver(opt_prob, verbose=True)\n",
    "solver.optimize()"
   ]
  },
  {
   "cell_type": "markdown",
   "id": "d323e98d",
   "metadata": {},
   "source": [
    "Print out results:\n"
   ]
  },
  {
   "cell_type": "code",
   "execution_count": 5,
   "id": "06558f54",
   "metadata": {},
   "outputs": [
    {
     "name": "stdout",
     "output_type": "stream",
     "text": [
      "First Pose:                 \n",
      " [[ 1.  0.  0. -0.]\n",
      " [ 0.  1.  0. -0.]\n",
      " [ 0.  0.  1.  0.]\n",
      " [ 0.  0.  0.  1.]]\n",
      "Second Pose:                \n",
      " [[ 0.999375 -0.024786  0.025203  0.022652]\n",
      " [ 0.025408  0.999373 -0.024677  0.024835]\n",
      " [-0.024576  0.025302  0.999378  0.02516 ]\n",
      " [ 0.        0.        0.        1.      ]]\n",
      "Last Pose (full circle):    \n",
      " [[ 0.999375 -0.024786  0.025203  0.022652]\n",
      " [ 0.025408  0.999373 -0.024677  0.024835]\n",
      " [-0.024576  0.025302  0.999378  0.02516 ]\n",
      " [ 0.        0.        0.        1.      ]]\n",
      "First Vel:                  \n",
      " [[0. 0. 0. 0. 0. 0.]]\n",
      "Second Vel:                 \n",
      " [[0.05 0.05 0.05 0.05 0.05 0.05]]\n",
      "Last Vel:                   \n",
      " [[0.05 0.05 0.05 0.05 0.05 0.05]]\n",
      "Interp. Vel (t=t0+0.5*dT):  \n",
      " [[0.021473 0.024817 0.025181 0.024995 0.024847 0.025158]]\n"
     ]
    }
   ],
   "source": [
    "print(\"First Pose:                 \\n\", states[0][1])\n",
    "print(\"Second Pose:                \\n\", states[1][1])\n",
    "print(\"Last Pose (full circle):    \\n\", states[-1][1])\n",
    "print(\"First Vel:                  \\n\", states[0][2].T)\n",
    "print(\"Second Vel:                 \\n\", states[1][2].T)\n",
    "print(\"Last Vel:                   \\n\", states[-1][2].T)\n",
    "print(\"Interp. Vel (t=t0+0.5*dT):  \\n\",\n",
    "      traj.get_velocity_interpolator(Time(states[0][0]) + Time(secs=0.5 * dt)).evaluate().T)\n"
   ]
  }
 ],
 "metadata": {
  "interpreter": {
   "hash": "fc65de11abe55fa574530f75e56f633b72e2b4f2ed343d66d95f96fb55516439"
  },
  "kernelspec": {
   "display_name": "Python 3.8.10 64-bit ('venv': venv)",
   "name": "python3"
  },
  "language_info": {
   "codemirror_mode": {
    "name": "ipython",
    "version": 3
   },
   "file_extension": ".py",
   "mimetype": "text/x-python",
   "name": "python",
   "nbconvert_exporter": "python",
   "pygments_lexer": "ipython3",
   "version": "3.8.10"
  }
 },
 "nbformat": 4,
 "nbformat_minor": 5
}
