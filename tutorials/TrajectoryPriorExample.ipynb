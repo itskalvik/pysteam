{
 "cells": [
  {
   "cell_type": "markdown",
   "id": "35e3afe6",
   "metadata": {},
   "source": [
    "# Trajectory Prior Example\n",
    "\n",
    "Example that uses a simple constant-velocity prior over a trajectory."
   ]
  },
  {
   "cell_type": "code",
   "execution_count": 1,
   "metadata": {},
   "outputs": [],
   "source": [
    "import typing\n",
    "import numpy as np\n",
    "np.set_printoptions(6, suppress=True)\n",
    "\n",
    "from pylgmath import so3op, se3op, Transformation\n",
    "from pysteam.trajectory import Time, TrajectoryInterface\n",
    "from pysteam.state import TransformStateVar, VectorSpaceStateVar\n",
    "from pysteam.problem import OptimizationProblem\n",
    "from pysteam.solver import DoglegGaussNewtonSolver\n",
    "from pysteam.evaluator import TransformStateEvaluator"
   ]
  },
  {
   "cell_type": "markdown",
   "metadata": {},
   "source": [
    "Options:"
   ]
  },
  {
   "cell_type": "code",
   "execution_count": 2,
   "metadata": {},
   "outputs": [],
   "source": [
    "num_states = 4  # total number of states\n",
    "T_vi_init = Transformation()  # initial pose T_vi_init=T_ii (used as a prior)\n",
    "w_iv_inv_init = np.array([[-1.0, 0., 0., 0., 0., 0.]]).T  # initial body-centric velocity (used as a prior)\n",
    "dt = 1"
   ]
  },
  {
   "cell_type": "markdown",
   "metadata": {},
   "source": [
    "Set up the trajectory that uses a constant velocity motion prior:"
   ]
  },
  {
   "cell_type": "code",
   "execution_count": 3,
   "metadata": {},
   "outputs": [],
   "source": [
    "# states with initial conditions and associated timestamps\n",
    "states = [(dt * i, Transformation(), np.zeros((6, 1))) for i in range(num_states)]\n",
    "\n",
    "# wrap states with corresponding steam state variables (no copying!)\n",
    "state_vars = [(t, TransformStateVar(T_vi), VectorSpaceStateVar(w_iv_inv)) for t, T_vi, w_iv_inv in states]\n",
    "\n",
    "# construct a trajectory\n",
    "Qc_inv = np.diag(1 / np.array([1.0, 0.001, 0.001, 0.001, 0.001, 1.0]))  # smoothing factor diagonal\n",
    "traj = TrajectoryInterface(Qc_inv=Qc_inv)\n",
    "for t, T_vi, w_iv_inv in state_vars:\n",
    "  traj.add_knot(time=Time(t), T_k0=TransformStateEvaluator(T_vi), velocity=w_iv_inv)\n",
    "\n",
    "# add pose and velocity priors (associated with the initial timestamp t0)\n",
    "traj.add_pose_prior(Time(states[0][0]), T_vi_init, np.eye(6))\n",
    "traj.add_velocity_prior(Time(states[0][0]), w_iv_inv_init, np.eye(6))"
   ]
  },
  {
   "cell_type": "markdown",
   "metadata": {},
   "source": [
    "Construct the optimization problem and solve:"
   ]
  },
  {
   "cell_type": "code",
   "execution_count": 4,
   "metadata": {},
   "outputs": [
    {
     "name": "stdout",
     "output_type": "stream",
     "text": [
      "Begin Optimization\n",
      "------------------\n",
      "Number of States:  8\n",
      "Number of Cost Terms:  5\n",
      "Initial Cost:  0.5\n",
      "Iteration:    1  -  Cost:     0.0000  -  TR Shrink:  0.000  -  AvP Ratio:  1.000  -  Dogleg Segment: Gauss Newton   \n",
      "Iteration:    2  -  Cost:     0.0000  -  TR Shrink:  0.000  -  AvP Ratio:  0.988  -  Dogleg Segment: Gauss Newton   \n",
      "Termination Cause:  CONVERGED ABSOLUTE CHANGE\n",
      "Total Optimization Time: 0.0938 seconds\n"
     ]
    }
   ],
   "source": [
    "opt_prob = OptimizationProblem()\n",
    "opt_prob.add_state_var(*[v for state_var in state_vars for v in state_var[1:]])\n",
    "opt_prob.add_cost_term(*traj.get_prior_cost_terms())\n",
    "\n",
    "solver = DoglegGaussNewtonSolver(opt_prob, verbose=True)\n",
    "solver.optimize()"
   ]
  },
  {
   "cell_type": "markdown",
   "metadata": {},
   "source": [
    "Print out results:"
   ]
  },
  {
   "cell_type": "code",
   "execution_count": 5,
   "metadata": {},
   "outputs": [
    {
     "name": "stdout",
     "output_type": "stream",
     "text": [
      "First Pose:                 \n",
      " [[1. 0. 0. 0.]\n",
      " [0. 1. 0. 0.]\n",
      " [0. 0. 1. 0.]\n",
      " [0. 0. 0. 1.]]\n",
      "Second Pose:                \n",
      " [[ 1.  0.  0. -1.]\n",
      " [ 0.  1.  0.  0.]\n",
      " [ 0.  0.  1.  0.]\n",
      " [ 0.  0.  0.  1.]]\n",
      "Last Pose (full circle):    \n",
      " [[ 1.  0.  0. -3.]\n",
      " [ 0.  1.  0.  0.]\n",
      " [ 0.  0.  1.  0.]\n",
      " [ 0.  0.  0.  1.]]\n",
      "First Vel:                  \n",
      " [[-1.  0.  0.  0.  0.  0.]]\n",
      "Second Vel:                 \n",
      " [[-1.  0.  0.  0.  0.  0.]]\n",
      "Last Vel:                   \n",
      " [[-1.  0.  0.  0.  0.  0.]]\n",
      "Interp. Vel (t=t0+0.5*dT):  \n",
      " [[-1.  0.  0.  0.  0.  0.]]\n"
     ]
    }
   ],
   "source": [
    "print(\"First Pose:                 \\n\", states[0][1])\n",
    "print(\"Second Pose:                \\n\", states[1][1])\n",
    "print(\"Last Pose (full circle):    \\n\", states[-1][1])\n",
    "print(\"First Vel:                  \\n\", states[0][2].T)\n",
    "print(\"Second Vel:                 \\n\", states[1][2].T)\n",
    "print(\"Last Vel:                   \\n\", states[-1][2].T)\n",
    "print(\"Interp. Vel (t=t0+0.5*dT):  \\n\", traj.get_interp_velocity(Time(states[0][0]) + Time(secs=0.5 * dt)).T)"
   ]
  }
 ],
 "metadata": {
  "interpreter": {
   "hash": "c15f067fe7e8127fdbb642962bd2cd8db04f16ef0be4627ba876d2142abc64bf"
  },
  "kernelspec": {
   "display_name": "Python 3.8.10 64-bit ('venv': venv)",
   "name": "python3"
  },
  "language_info": {
   "codemirror_mode": {
    "name": "ipython",
    "version": 3
   },
   "file_extension": ".py",
   "mimetype": "text/x-python",
   "name": "python",
   "nbconvert_exporter": "python",
   "pygments_lexer": "ipython3",
   "version": "3.8.10"
  }
 },
 "nbformat": 4,
 "nbformat_minor": 5
}
